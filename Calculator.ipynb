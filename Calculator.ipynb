{
 "cells": [
  {
   "cell_type": "raw",
   "id": "4a5a2666",
   "metadata": {},
   "source": [
    "''' \n",
    "Make a simple Calculator which takes 2 numbers and an arithmatic operation symbol \n",
    "as input and perform the operation\n",
    "'''\n",
    "#input from user and storing theri values in variables\n"
   ]
  },
  {
   "cell_type": "code",
   "execution_count": null,
   "id": "e67714b3",
   "metadata": {},
   "outputs": [],
   "source": [
    "num1 = int(input(\"Enter the first Number : \"))"
   ]
  },
  {
   "cell_type": "code",
   "execution_count": null,
   "id": "62b037ab",
   "metadata": {},
   "outputs": [],
   "source": [
    "num2 = int(input(\"Enter the second  Number :\"))"
   ]
  },
  {
   "cell_type": "code",
   "execution_count": null,
   "id": "f16cb616",
   "metadata": {},
   "outputs": [],
   "source": [
    "operator = input(\"Enter an arithmatic symbol \\\n",
    "from(+,-,*,/,%,//,**):\")"
   ]
  },
  {
   "cell_type": "code",
   "execution_count": null,
   "id": "86c328a3",
   "metadata": {},
   "outputs": [],
   "source": [
    "#Write if, elif,and else statement for different conditions"
   ]
  },
  {
   "cell_type": "code",
   "execution_count": null,
   "id": "2d33bd76",
   "metadata": {},
   "outputs": [],
   "source": [
    "if(operator == '+'):\n",
    "    print(num1,operator,num2,operator,'=',num1+num2)"
   ]
  },
  {
   "cell_type": "code",
   "execution_count": null,
   "id": "369c25cc",
   "metadata": {},
   "outputs": [],
   "source": [
    "elif(operator == \"-\"):\n",
    "    print(num1,operator,num2,\"=\",num1-num2)"
   ]
  },
  {
   "cell_type": "code",
   "execution_count": null,
   "id": "310b6d8a",
   "metadata": {},
   "outputs": [],
   "source": [
    "elif(operator == \"*\"):\n",
    "    print(num1,operator,num2,\"=\",num1*num2)"
   ]
  },
  {
   "cell_type": "code",
   "execution_count": null,
   "id": "9ed0d7df",
   "metadata": {},
   "outputs": [],
   "source": [
    "elif(operator == \"/\"):\n",
    "    print(num1,operator,num2,\"=\",num1/num2)\n"
   ]
  },
  {
   "cell_type": "code",
   "execution_count": null,
   "id": "d25b7009",
   "metadata": {},
   "outputs": [],
   "source": [
    "elif(operator == \"**\"):\n",
    "    print(num1,operator,num2,\"=\",num1**num2)\n",
    "    "
   ]
  },
  {
   "cell_type": "code",
   "execution_count": null,
   "id": "bdfedcfd",
   "metadata": {},
   "outputs": [],
   "source": [
    "elif(operator == \"//\"):\n",
    "    print(num1,operator,num2,\"=\",num1//num2)"
   ]
  },
  {
   "cell_type": "code",
   "execution_count": null,
   "id": "6cd46e52",
   "metadata": {},
   "outputs": [],
   "source": [
    "elif(operator == \"%\")\n",
    "print(num1,operator,num2,\"=\",num1%num2)"
   ]
  },
  {
   "cell_type": "code",
   "execution_count": null,
   "id": "e20b00c7",
   "metadata": {},
   "outputs": [],
   "source": [
    "else :\n",
    "    print(\"Please select correct operator !\")"
   ]
  },
  {
   "cell_type": "code",
   "execution_count": null,
   "id": "95158845",
   "metadata": {},
   "outputs": [],
   "source": []
  },
  {
   "cell_type": "code",
   "execution_count": null,
   "id": "efeea324",
   "metadata": {},
   "outputs": [],
   "source": []
  },
  {
   "cell_type": "code",
   "execution_count": null,
   "id": "87290d25",
   "metadata": {},
   "outputs": [],
   "source": []
  }
 ],
 "metadata": {
  "kernelspec": {
   "display_name": "Python 3 (ipykernel)",
   "language": "python",
   "name": "python3"
  },
  "language_info": {
   "codemirror_mode": {
    "name": "ipython",
    "version": 3
   },
   "file_extension": ".py",
   "mimetype": "text/x-python",
   "name": "python",
   "nbconvert_exporter": "python",
   "pygments_lexer": "ipython3",
   "version": "3.9.12"
  }
 },
 "nbformat": 4,
 "nbformat_minor": 5
}
